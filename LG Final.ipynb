{
 "cells": [
  {
   "cell_type": "code",
   "execution_count": 43,
   "id": "cbe04854",
   "metadata": {},
   "outputs": [],
   "source": [
    "import time\n",
    "import pandas as pd\n",
    "from selenium import webdriver\n",
    "from selenium.webdriver.common.by import By\n",
    "from selenium.webdriver.common.keys import Keys\n",
    "from selenium.webdriver.chrome.service import Service\n",
    "from selenium.webdriver.support.ui import WebDriverWait\n",
    "from selenium.webdriver.support import expected_conditions as EC\n",
    "from webdriver_manager.chrome import ChromeDriverManager\n",
    "from datetime import datetime\n",
    "import re"
   ]
  },
  {
   "cell_type": "code",
   "execution_count": 44,
   "id": "10316fc9",
   "metadata": {},
   "outputs": [],
   "source": [
    "def print_current_date():\n",
    "    now = datetime.now()\n",
    "    current_date = now.strftime(\"%Y-%m-%d\")\n",
    "    return(current_date)"
   ]
  },
  {
   "cell_type": "code",
   "execution_count": 45,
   "id": "51ab67a2",
   "metadata": {},
   "outputs": [],
   "source": [
    "def print_current_time():\n",
    "    now = datetime.now()\n",
    "    current_time = now.strftime(\"%H:%M:%S\")\n",
    "    return(current_time)"
   ]
  },
  {
   "cell_type": "code",
   "execution_count": 46,
   "id": "c1e171d1",
   "metadata": {},
   "outputs": [],
   "source": [
    "def setup_driver():\n",
    "    service = Service(ChromeDriverManager().install())\n",
    "    driver = webdriver.Chrome(service=service)\n",
    "    wait = WebDriverWait(driver, 15)\n",
    "    return driver, wait"
   ]
  },
  {
   "cell_type": "code",
   "execution_count": 47,
   "id": "9cb083d9",
   "metadata": {},
   "outputs": [],
   "source": [
    "def search_product(driver, wait, serial_number):\n",
    "    driver.get('https://www.google.com')\n",
    "    search_box = wait.until(EC.presence_of_element_located((By.NAME, 'q')))\n",
    "    search_query = f\"site:lg.com {serial_number}\"\n",
    "    search_box.send_keys(search_query)\n",
    "    search_box.send_keys(Keys.RETURN)\n",
    "    time.sleep(1)\n",
    "    \n",
    "    first_result = wait.until(EC.element_to_be_clickable((By.XPATH, \"(//h3[@class='LC20lb MBeuO DKV0Md'])[1]\")))\n",
    "    first_result.click()\n",
    "    time.sleep(1)"
   ]
  },
  {
   "cell_type": "code",
   "execution_count": 48,
   "id": "fd6dd9bd",
   "metadata": {},
   "outputs": [],
   "source": [
    "def check_name(driver,wait,serial_number):\n",
    "    try:\n",
    "        time.sleep(1)\n",
    "        check_name_element=driver.find_element(By.XPATH,'//span[@class=\"cmp-text\"]')\n",
    "        check_name=check_name_element.text\n",
    "        combinations = [serial_number]\n",
    "        \n",
    "        dot_pos = serial_number.find('.')\n",
    "        dash_pos = serial_number.find('-')\n",
    "        if dot_pos != -1:\n",
    "            combinations.append(serial_number[:dot_pos])\n",
    "        if dash_pos != -1 and dash_pos != 2:\n",
    "            combinations.append(serial_number[:dash_pos])\n",
    "        if dash_pos != -1 and dot_pos != -1:\n",
    "            middle_portion = serial_number[dash_pos + 1:dot_pos]\n",
    "            if len(middle_portion)>2:\n",
    "                combinations.append(middle_portion) \n",
    "            \n",
    "        for item in combinations:\n",
    "            if item in check_name:\n",
    "                return True\n",
    "        return False  \n",
    "    except Exception:\n",
    "        return False"
   ]
  },
  {
   "cell_type": "code",
   "execution_count": 49,
   "id": "e42ea7c9",
   "metadata": {},
   "outputs": [],
   "source": [
    "def get_product_price(driver,wait):\n",
    "    time.sleep(1)\n",
    "    try:\n",
    "        price_element = driver.find_element(By.XPATH, '(//div[@class=\"price-box\"]//div//div[@class=\"c-price__purchase\"])[1]')\n",
    "        price = (int)(price_element.text.replace(\"₹\", \"\").replace(\",\", \"\"))\n",
    "    except Exception:\n",
    "        price = \"Currently unavailable\"\n",
    "    return price"
   ]
  },
  {
   "cell_type": "code",
   "execution_count": 50,
   "id": "9a8643b7",
   "metadata": {},
   "outputs": [],
   "source": [
    "def get_strikeout_price(driver,wait):\n",
    "    #time.sleep(1)\n",
    "    try:\n",
    "        strike_element = driver.find_element(By.XPATH, '(//div[@class=\"product-price-row\"]//div[@class=\"c-price\"]//del[@class=\"c-price__previous\"])[1]')\n",
    "        strike = (int)(strike_element.text.replace(\"₹\", \"\").replace(\",\", \"\"))\n",
    "    except Exception:\n",
    "        strike = \"Currently unavailable\"\n",
    "    return strike"
   ]
  },
  {
   "cell_type": "code",
   "execution_count": 51,
   "id": "865625b5",
   "metadata": {},
   "outputs": [],
   "source": [
    "def get_product_offers(driver, wait):\n",
    "    return \"No offers\""
   ]
  },
  {
   "cell_type": "code",
   "execution_count": 52,
   "id": "01f1d791",
   "metadata": {},
   "outputs": [],
   "source": [
    "def get_seller_name(driver, wait):\n",
    "    return \"Lg\""
   ]
  },
  {
   "cell_type": "code",
   "execution_count": 53,
   "id": "4cd46417",
   "metadata": {},
   "outputs": [],
   "source": [
    "def get_rating(driver,wait):\n",
    "    try:\n",
    "        get_rating=driver.find_element(By.XPATH,'//div[@itemprop=\"ratingValue\"]')\n",
    "        rating=(get_rating.text)\n",
    "        return (float)(rating)\n",
    "    except Exception:\n",
    "        return \"NA\""
   ]
  },
  {
   "cell_type": "code",
   "execution_count": 54,
   "id": "bd3ea835",
   "metadata": {},
   "outputs": [],
   "source": [
    "def buy_with_exchange(driver,wait):\n",
    "    try:\n",
    "        exchange_price = driver.find_element(By.XPATH, '//a[@class=\"cmp-button c-button c-button--default highlight m-large w-large buy-now-button\"]')\n",
    "        exchange_price.click()\n",
    "        time.sleep(1)\n",
    "        buy_with_exchange=driver.find_element(By.XPATH,'//div[@class=\"c-sibling-option__price\"]//span[@class=\"cmp-text\"]')\n",
    "        exchange=buy_with_exchange.text\n",
    "        return exchange\n",
    "    except Exception:\n",
    "        return \"NA\""
   ]
  },
  {
   "cell_type": "code",
   "execution_count": 55,
   "id": "9c6dae3a",
   "metadata": {},
   "outputs": [],
   "source": [
    "def review_count(driver,wait):\n",
    "    try:\n",
    "        time.sleep(10)\n",
    "        review_count=driver.find_element(By.XPATH,'//div[@class=\"bv_numReviews_text\"]')\n",
    "        count_text=review_count.text\n",
    "        count_text=count_text.replace(\"(\", \"\").replace(\")\",\"\")\n",
    "        count = int(re.search(r'\\d+', count_text).group())\n",
    "        #count=(count_text)\n",
    "        return count\n",
    "    except Exception:\n",
    "        return \"NA\""
   ]
  },
  {
   "cell_type": "code",
   "execution_count": 56,
   "id": "6642093b",
   "metadata": {},
   "outputs": [],
   "source": [
    "def rating_1_star(driver,wait):\n",
    "    try:\n",
    "        time.sleep(1)\n",
    "        a=driver.find_element(By.XPATH, '//*[contains(concat( \" \", @class, \" \" ), concat( \" \", \"c-review-wrap\", \" \" ))]//div')\n",
    "        S=str(a.text).split(\"\\n\")\n",
    "        i=1\n",
    "        if f\"{i} star\" in S:\n",
    "            rating=(S[(S.index(f\"{i} star\"))+2])\n",
    "            #print(rating)\n",
    "            count = int(re.search(r'\\d+', rating).group())\n",
    "            review_all=review_count(driver,wait)\n",
    "            percentage=(int)((count/review_all)*100)\n",
    "            return percentage\n",
    "    except Exception:\n",
    "        return(\"NA\")"
   ]
  },
  {
   "cell_type": "code",
   "execution_count": 57,
   "id": "b3743c60",
   "metadata": {},
   "outputs": [],
   "source": [
    "def rating_2_star(driver,wait):\n",
    "    try:\n",
    "        time.sleep(1)\n",
    "        a=driver.find_element(By.XPATH, '//*[contains(concat( \" \", @class, \" \" ), concat( \" \", \"c-review-wrap\", \" \" ))]//div')\n",
    "        S=str(a.text).split(\"\\n\")\n",
    "        i=2\n",
    "        if f\"{i} stars\" in S:\n",
    "            rating=(S[(S.index(f\"{i} stars\"))+2])\n",
    "            #print(rating)\n",
    "            count = int(re.search(r'\\d+', rating).group())\n",
    "            review_all=review_count(driver,wait)\n",
    "            percentage=(int)((count/review_all)*100)\n",
    "            return percentage\n",
    "    except Exception:\n",
    "        return (\"NA\")"
   ]
  },
  {
   "cell_type": "code",
   "execution_count": 58,
   "id": "db516e86",
   "metadata": {},
   "outputs": [],
   "source": [
    "def rating_3_star(driver,wait):\n",
    "    try:\n",
    "        time.sleep(1)\n",
    "        a=driver.find_element(By.XPATH, '//*[contains(concat( \" \", @class, \" \" ), concat( \" \", \"c-review-wrap\", \" \" ))]//div')\n",
    "        S=str(a.text).split(\"\\n\")\n",
    "        i=3\n",
    "        if f\"{i} stars\" in S:\n",
    "            rating=(S[(S.index(f\"{i} stars\"))+2])\n",
    "            #print(rating)\n",
    "            count = int(re.search(r'\\d+', rating).group())\n",
    "            review_all=review_count(driver,wait)\n",
    "            percentage=(int)((count/review_all)*100)\n",
    "            return percentage\n",
    "    except Exception:\n",
    "        return(\"NA\")"
   ]
  },
  {
   "cell_type": "code",
   "execution_count": 59,
   "id": "ac31d23b",
   "metadata": {},
   "outputs": [],
   "source": [
    "def rating_4_star(driver,wait):\n",
    "    try:\n",
    "        time.sleep(1)\n",
    "        a=driver.find_element(By.XPATH, '//*[contains(concat( \" \", @class, \" \" ), concat( \" \", \"c-review-wrap\", \" \" ))]//div')\n",
    "        S=str(a.text).split(\"\\n\")\n",
    "        i=4\n",
    "        if f\"{i} stars\" in S:\n",
    "            rating=(S[(S.index(f\"{i} stars\"))+2])\n",
    "            #print(rating)\n",
    "            count = int(re.search(r'\\d+', rating).group())\n",
    "            review_all=review_count(driver,wait)\n",
    "            percentage=(int)((count/review_all)*100)\n",
    "            return percentage\n",
    "    except Exception:\n",
    "        return (\"NA\")"
   ]
  },
  {
   "cell_type": "code",
   "execution_count": 60,
   "id": "80a74ff8",
   "metadata": {},
   "outputs": [],
   "source": [
    "def rating_5_star(driver,wait):\n",
    "    try:\n",
    "        time.sleep(10)\n",
    "        a=driver.find_element(By.XPATH, '//*[contains(concat( \" \", @class, \" \" ), concat( \" \", \"c-review-wrap\", \" \" ))]//div')\n",
    "        S=str(a.text).split(\"\\n\")\n",
    "        i=5\n",
    "        if f\"{i} stars\" in S:\n",
    "            rating=(S[(S.index(f\"{i} stars\"))+2])\n",
    "            #print(rating)\n",
    "            count = int(re.search(r'\\d+', rating).group())\n",
    "            review_all=review_count(driver,wait)\n",
    "            percentage=(int)((count/review_all)*100)\n",
    "            return percentage\n",
    "    except Exception:\n",
    "        return(\"NA\")"
   ]
  },
  {
   "cell_type": "code",
   "execution_count": 67,
   "id": "31f2b0d1",
   "metadata": {},
   "outputs": [],
   "source": [
    "def main(person_name, excel_file_path):\n",
    "    # Read the Excel file to find the serial numbers assigned to the given person\n",
    "    df = pd.read_excel(excel_file_path)\n",
    "    serial_numbers = df[df['Assigned To'] == person_name]['Sales Model Code'].tolist()\n",
    "\n",
    "    current_prices = []\n",
    "    #offers_list = []\n",
    "    strikeout_prices = []\n",
    "    #sellers = []\n",
    "    #Price_After_Exchange = []\n",
    "    #Total_Reviews = []\n",
    "    #Average_Rating = []\n",
    "    #Star_5_Rating = []\n",
    "    #Star_4_Rating = []\n",
    "    #Star_3_Rating = []\n",
    "    #Star_2_Rating = []\n",
    "    #Star_1_Rating = []\n",
    "    check_na=[]\n",
    "\n",
    "    date = print_current_date()\n",
    "    time = print_current_time()\n",
    "\n",
    "    for sn in serial_numbers:\n",
    "        driver, wait = setup_driver()\n",
    "        search_product(driver, wait, sn)\n",
    "        \n",
    "        name=check_name(driver,wait,sn)\n",
    "        check_na.append(name)\n",
    "        \n",
    "        #total_reviews = review_count(driver, wait)\n",
    "        #Total_Reviews.append(total_reviews)\n",
    "\n",
    "        #avg_rating = get_rating(driver, wait)\n",
    "        #Average_Rating.append(avg_rating)\n",
    "\n",
    "        #star_5 = rating_5_star(driver, wait)\n",
    "        #Star_5_Rating.append(star_5)\n",
    "\n",
    "        #star_4 = rating_4_star(driver, wait)\n",
    "        #Star_4_Rating.append(star_4)\n",
    "\n",
    "        #star_3 = rating_3_star(driver, wait)\n",
    "        #Star_3_Rating.append(star_3)\n",
    "\n",
    "        #star_2 = rating_2_star(driver, wait)\n",
    "        #Star_2_Rating.append(star_2)\n",
    "\n",
    "        #star_1 = rating_1_star(driver, wait)\n",
    "        #Star_1_Rating.append(star_1)\n",
    "        \n",
    "        price = get_product_price(driver, wait)\n",
    "        current_prices.append(price)\n",
    "        \n",
    "        #offers = get_product_offers(driver, wait)\n",
    "        #offers_list.append(offers)\n",
    "        \n",
    "        strike = get_strikeout_price(driver, wait)\n",
    "        strikeout_prices.append(strike)\n",
    "        \n",
    "        #seller = get_seller_name(driver, wait)\n",
    "        #sellers.append(seller)\n",
    "        \n",
    "        #exchange = buy_with_exchange(driver, wait)\n",
    "        #Price_After_Exchange.append(exchange)\n",
    "\n",
    "        driver.quit()\n",
    "    \n",
    "    data = {\n",
    "        'Source': \"LG\",\n",
    "        'Model Number': serial_numbers,\n",
    "        'Check Name':check_na,\n",
    "        #'Date': date,\n",
    "        #'Time': time,\n",
    "        'Original_MRP': strikeout_prices,\n",
    "        'Discounted_Price': current_prices,\n",
    "        #'Seller_Name': sellers,\n",
    "        #'Price_After_Exchange': Price_After_Exchange,\n",
    "        #'Total_Reviews': Total_Reviews,\n",
    "        #'Average_Rating': Average_Rating,\n",
    "        #'Star_5_Rating': Star_5_Rating,\n",
    "        #'Star_4_Rating': Star_4_Rating,\n",
    "        #'Star_3_Rating': Star_3_Rating,\n",
    "        #'Star_2_Rating': Star_2_Rating,\n",
    "        #'Star_1_Rating': Star_1_Rating,\n",
    "        #'Offers': offers_list\n",
    "    }\n",
    "\n",
    "    df = pd.DataFrame(data)\n",
    "    output_file = 'C:\\\\Users\\\\pgupt\\\\Desktop\\\\New_data.xlsx'\n",
    "\n",
    "    try:\n",
    "        existing_df = pd.read_excel(output_file)\n",
    "        updated_df = pd.concat([existing_df, df], ignore_index=True)\n",
    "    except FileNotFoundError:\n",
    "        updated_df = df\n",
    "    updated_df.to_excel(output_file, index=False)\n",
    "\n",
    "    print(f\"Data has been written to {output_file}\")"
   ]
  },
  {
   "cell_type": "code",
   "execution_count": 68,
   "id": "e23eb10e",
   "metadata": {},
   "outputs": [
    {
     "name": "stdout",
     "output_type": "stream",
     "text": [
      "Data has been written to C:\\Users\\pgupt\\Desktop\\New_data.xlsx\n"
     ]
    }
   ],
   "source": [
    "person_name = \"Priyanshu Gupta\"  # Replace this with your name\n",
    "excel_file_path = 'C:\\\\Users\\\\pgupt\\\\Downloads\\\\Flash sale checked out SKu - Copy.xlsx'# Replace with the path to your Excel file\n",
    "main(person_name,excel_file_path)"
   ]
  },
  {
   "cell_type": "code",
   "execution_count": null,
   "id": "c032033d",
   "metadata": {},
   "outputs": [],
   "source": []
  },
  {
   "cell_type": "code",
   "execution_count": null,
   "id": "342307ac",
   "metadata": {},
   "outputs": [],
   "source": []
  },
  {
   "cell_type": "code",
   "execution_count": null,
   "id": "986c24e5",
   "metadata": {},
   "outputs": [],
   "source": []
  },
  {
   "cell_type": "code",
   "execution_count": null,
   "id": "873ab7ee",
   "metadata": {},
   "outputs": [],
   "source": []
  }
 ],
 "metadata": {
  "kernelspec": {
   "display_name": "Python 3 (ipykernel)",
   "language": "python",
   "name": "python3"
  },
  "language_info": {
   "codemirror_mode": {
    "name": "ipython",
    "version": 3
   },
   "file_extension": ".py",
   "mimetype": "text/x-python",
   "name": "python",
   "nbconvert_exporter": "python",
   "pygments_lexer": "ipython3",
   "version": "3.9.12"
  }
 },
 "nbformat": 4,
 "nbformat_minor": 5
}
